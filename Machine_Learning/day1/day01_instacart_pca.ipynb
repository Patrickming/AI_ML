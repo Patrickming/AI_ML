{
 "cells": [
  {
   "cell_type": "code",
   "execution_count": 2,
   "metadata": {
    "ExecuteTime": {
     "end_time": "2023-11-28T11:16:34.726897500Z",
     "start_time": "2023-11-28T11:16:34.693890200Z"
    }
   },
   "outputs": [],
   "source": [
    "# 1、获取数据\n",
    "# 2、合并表\n",
    "# 3、找到user_id和aisle之间的关系\n",
    "# 4、PCA降维"
   ]
  },
  {
   "cell_type": "code",
   "execution_count": 3,
   "metadata": {
    "ExecuteTime": {
     "end_time": "2023-11-28T11:16:40.412157400Z",
     "start_time": "2023-11-28T11:16:40.373119Z"
    }
   },
   "outputs": [],
   "source": [
    "import pandas as pd"
   ]
  },
  {
   "cell_type": "code",
   "execution_count": 4,
   "metadata": {
    "ExecuteTime": {
     "end_time": "2023-11-28T11:17:10.863370Z",
     "start_time": "2023-11-28T11:16:47.120092400Z"
    }
   },
   "outputs": [],
   "source": [
    "# 1、获取数据\n",
    "order_products = pd.read_csv(\"./instacart/order_products__prior.csv\")\n",
    "products = pd.read_csv(\"./instacart/products.csv\")\n",
    "orders = pd.read_csv(\"./instacart/orders.csv\")\n",
    "aisles = pd.read_csv(\"./instacart/aisles.csv\")"
   ]
  },
  {
   "cell_type": "code",
   "execution_count": 7,
   "metadata": {
    "ExecuteTime": {
     "end_time": "2023-11-28T11:24:03.145135800Z",
     "start_time": "2023-11-28T11:24:03.019899800Z"
    }
   },
   "outputs": [
    {
     "data": {
      "text/plain": "       aisle_id                       aisle  product_id  \\\n0             1       prepared soups salads         209   \n1             1       prepared soups salads         554   \n2             1       prepared soups salads         886   \n3             1       prepared soups salads        1600   \n4             1       prepared soups salads        2539   \n...         ...                         ...         ...   \n49683       134  specialty wines champagnes       47713   \n49684       134  specialty wines champagnes       48984   \n49685       134  specialty wines champagnes       49438   \n49686       134  specialty wines champagnes       49562   \n49687       134  specialty wines champagnes       49661   \n\n                                            product_name  department_id  \n0                                    Italian Pasta Salad             20  \n1                                           Turkey Chili             20  \n2      Whole Grain Salad with Roasted Pecans & Mango ...             20  \n3                               Mediterranean Orzo Salad             20  \n4                                  Original Potato Salad             20  \n...                                                  ...            ...  \n49683                                     Sparkling Rose              5  \n49684                                         Dry Sherry              5  \n49685                                    Dry Fino Sherry              5  \n49686                      Blanc De Noirs Sparkling Wine              5  \n49687                                              Porto              5  \n\n[49688 rows x 5 columns]",
      "text/html": "<div>\n<style scoped>\n    .dataframe tbody tr th:only-of-type {\n        vertical-align: middle;\n    }\n\n    .dataframe tbody tr th {\n        vertical-align: top;\n    }\n\n    .dataframe thead th {\n        text-align: right;\n    }\n</style>\n<table border=\"1\" class=\"dataframe\">\n  <thead>\n    <tr style=\"text-align: right;\">\n      <th></th>\n      <th>aisle_id</th>\n      <th>aisle</th>\n      <th>product_id</th>\n      <th>product_name</th>\n      <th>department_id</th>\n    </tr>\n  </thead>\n  <tbody>\n    <tr>\n      <th>0</th>\n      <td>1</td>\n      <td>prepared soups salads</td>\n      <td>209</td>\n      <td>Italian Pasta Salad</td>\n      <td>20</td>\n    </tr>\n    <tr>\n      <th>1</th>\n      <td>1</td>\n      <td>prepared soups salads</td>\n      <td>554</td>\n      <td>Turkey Chili</td>\n      <td>20</td>\n    </tr>\n    <tr>\n      <th>2</th>\n      <td>1</td>\n      <td>prepared soups salads</td>\n      <td>886</td>\n      <td>Whole Grain Salad with Roasted Pecans &amp; Mango ...</td>\n      <td>20</td>\n    </tr>\n    <tr>\n      <th>3</th>\n      <td>1</td>\n      <td>prepared soups salads</td>\n      <td>1600</td>\n      <td>Mediterranean Orzo Salad</td>\n      <td>20</td>\n    </tr>\n    <tr>\n      <th>4</th>\n      <td>1</td>\n      <td>prepared soups salads</td>\n      <td>2539</td>\n      <td>Original Potato Salad</td>\n      <td>20</td>\n    </tr>\n    <tr>\n      <th>...</th>\n      <td>...</td>\n      <td>...</td>\n      <td>...</td>\n      <td>...</td>\n      <td>...</td>\n    </tr>\n    <tr>\n      <th>49683</th>\n      <td>134</td>\n      <td>specialty wines champagnes</td>\n      <td>47713</td>\n      <td>Sparkling Rose</td>\n      <td>5</td>\n    </tr>\n    <tr>\n      <th>49684</th>\n      <td>134</td>\n      <td>specialty wines champagnes</td>\n      <td>48984</td>\n      <td>Dry Sherry</td>\n      <td>5</td>\n    </tr>\n    <tr>\n      <th>49685</th>\n      <td>134</td>\n      <td>specialty wines champagnes</td>\n      <td>49438</td>\n      <td>Dry Fino Sherry</td>\n      <td>5</td>\n    </tr>\n    <tr>\n      <th>49686</th>\n      <td>134</td>\n      <td>specialty wines champagnes</td>\n      <td>49562</td>\n      <td>Blanc De Noirs Sparkling Wine</td>\n      <td>5</td>\n    </tr>\n    <tr>\n      <th>49687</th>\n      <td>134</td>\n      <td>specialty wines champagnes</td>\n      <td>49661</td>\n      <td>Porto</td>\n      <td>5</td>\n    </tr>\n  </tbody>\n</table>\n<p>49688 rows × 5 columns</p>\n</div>"
     },
     "execution_count": 7,
     "metadata": {},
     "output_type": "execute_result"
    }
   ],
   "source": [
    "# 2、合并表\n",
    "# order_products__prior.csv：订单与商品信息\n",
    "\n",
    "# 字段：order_id, product_id, add_to_cart_order, reordered\n",
    "# products.csv：商品信息\n",
    "# 字段：product_id, product_name, aisle_id, department_id\n",
    "# orders.csv：用户的订单信息\n",
    "# 字段：order_id,user_id,eval_set,order_number,….\n",
    "# aisles.csv：商品所属具体物品类别\n",
    "# 字段： aisle_id, aisle\n",
    "\n",
    "# 合并aisles和products aisle和product_id\n",
    "tab1 = pd.merge(aisles, products, on=[\"aisle_id\", \"aisle_id\"])\n",
    "tab1"
   ]
  },
  {
   "cell_type": "code",
   "execution_count": 8,
   "metadata": {
    "ExecuteTime": {
     "end_time": "2023-11-28T13:21:53.147221600Z",
     "start_time": "2023-11-28T13:21:40.078252700Z"
    }
   },
   "outputs": [],
   "source": [
    "tab2 = pd.merge(tab1, order_products, on=[\"product_id\", \"product_id\"])"
   ]
  },
  {
   "cell_type": "code",
   "execution_count": 9,
   "metadata": {
    "ExecuteTime": {
     "end_time": "2023-11-28T13:22:27.125967600Z",
     "start_time": "2023-11-28T13:21:59.110782600Z"
    }
   },
   "outputs": [],
   "source": [
    "tab3 = pd.merge(tab2, orders, on=[\"order_id\", \"order_id\"])"
   ]
  },
  {
   "cell_type": "code",
   "execution_count": 14,
   "metadata": {},
   "outputs": [
    {
     "data": {
      "text/html": [
       "<div>\n",
       "<style>\n",
       "    .dataframe thead tr:only-child th {\n",
       "        text-align: right;\n",
       "    }\n",
       "\n",
       "    .dataframe thead th {\n",
       "        text-align: left;\n",
       "    }\n",
       "\n",
       "    .dataframe tbody tr th {\n",
       "        vertical-align: top;\n",
       "    }\n",
       "</style>\n",
       "<table border=\"1\" class=\"dataframe\">\n",
       "  <thead>\n",
       "    <tr style=\"text-align: right;\">\n",
       "      <th></th>\n",
       "      <th>aisle_id</th>\n",
       "      <th>aisle</th>\n",
       "      <th>product_id</th>\n",
       "      <th>product_name</th>\n",
       "      <th>department_id</th>\n",
       "      <th>order_id</th>\n",
       "      <th>add_to_cart_order</th>\n",
       "      <th>reordered</th>\n",
       "      <th>user_id</th>\n",
       "      <th>eval_set</th>\n",
       "      <th>order_number</th>\n",
       "      <th>order_dow</th>\n",
       "      <th>order_hour_of_day</th>\n",
       "      <th>days_since_prior_order</th>\n",
       "    </tr>\n",
       "  </thead>\n",
       "  <tbody>\n",
       "    <tr>\n",
       "      <th>0</th>\n",
       "      <td>1</td>\n",
       "      <td>prepared soups salads</td>\n",
       "      <td>209</td>\n",
       "      <td>Italian Pasta Salad</td>\n",
       "      <td>20</td>\n",
       "      <td>94246</td>\n",
       "      <td>5</td>\n",
       "      <td>0</td>\n",
       "      <td>114082</td>\n",
       "      <td>prior</td>\n",
       "      <td>26</td>\n",
       "      <td>0</td>\n",
       "      <td>20</td>\n",
       "      <td>1.0</td>\n",
       "    </tr>\n",
       "    <tr>\n",
       "      <th>1</th>\n",
       "      <td>1</td>\n",
       "      <td>prepared soups salads</td>\n",
       "      <td>22853</td>\n",
       "      <td>Pesto Pasta Salad</td>\n",
       "      <td>20</td>\n",
       "      <td>94246</td>\n",
       "      <td>4</td>\n",
       "      <td>0</td>\n",
       "      <td>114082</td>\n",
       "      <td>prior</td>\n",
       "      <td>26</td>\n",
       "      <td>0</td>\n",
       "      <td>20</td>\n",
       "      <td>1.0</td>\n",
       "    </tr>\n",
       "    <tr>\n",
       "      <th>2</th>\n",
       "      <td>4</td>\n",
       "      <td>instant foods</td>\n",
       "      <td>12087</td>\n",
       "      <td>Chicken Flavor Ramen Noodle Soup</td>\n",
       "      <td>9</td>\n",
       "      <td>94246</td>\n",
       "      <td>15</td>\n",
       "      <td>0</td>\n",
       "      <td>114082</td>\n",
       "      <td>prior</td>\n",
       "      <td>26</td>\n",
       "      <td>0</td>\n",
       "      <td>20</td>\n",
       "      <td>1.0</td>\n",
       "    </tr>\n",
       "    <tr>\n",
       "      <th>3</th>\n",
       "      <td>4</td>\n",
       "      <td>instant foods</td>\n",
       "      <td>47570</td>\n",
       "      <td>Original Flavor Macaroni &amp; Cheese Dinner</td>\n",
       "      <td>9</td>\n",
       "      <td>94246</td>\n",
       "      <td>14</td>\n",
       "      <td>1</td>\n",
       "      <td>114082</td>\n",
       "      <td>prior</td>\n",
       "      <td>26</td>\n",
       "      <td>0</td>\n",
       "      <td>20</td>\n",
       "      <td>1.0</td>\n",
       "    </tr>\n",
       "    <tr>\n",
       "      <th>4</th>\n",
       "      <td>13</td>\n",
       "      <td>prepared meals</td>\n",
       "      <td>10089</td>\n",
       "      <td>Dolmas</td>\n",
       "      <td>20</td>\n",
       "      <td>94246</td>\n",
       "      <td>25</td>\n",
       "      <td>0</td>\n",
       "      <td>114082</td>\n",
       "      <td>prior</td>\n",
       "      <td>26</td>\n",
       "      <td>0</td>\n",
       "      <td>20</td>\n",
       "      <td>1.0</td>\n",
       "    </tr>\n",
       "  </tbody>\n",
       "</table>\n",
       "</div>"
      ],
      "text/plain": [
       "   aisle_id                  aisle  product_id  \\\n",
       "0         1  prepared soups salads         209   \n",
       "1         1  prepared soups salads       22853   \n",
       "2         4          instant foods       12087   \n",
       "3         4          instant foods       47570   \n",
       "4        13         prepared meals       10089   \n",
       "\n",
       "                               product_name  department_id  order_id  \\\n",
       "0                       Italian Pasta Salad             20     94246   \n",
       "1                         Pesto Pasta Salad             20     94246   \n",
       "2          Chicken Flavor Ramen Noodle Soup              9     94246   \n",
       "3  Original Flavor Macaroni & Cheese Dinner              9     94246   \n",
       "4                                    Dolmas             20     94246   \n",
       "\n",
       "   add_to_cart_order  reordered  user_id eval_set  order_number  order_dow  \\\n",
       "0                  5          0   114082    prior            26          0   \n",
       "1                  4          0   114082    prior            26          0   \n",
       "2                 15          0   114082    prior            26          0   \n",
       "3                 14          1   114082    prior            26          0   \n",
       "4                 25          0   114082    prior            26          0   \n",
       "\n",
       "   order_hour_of_day  days_since_prior_order  \n",
       "0                 20                     1.0  \n",
       "1                 20                     1.0  \n",
       "2                 20                     1.0  \n",
       "3                 20                     1.0  \n",
       "4                 20                     1.0  "
      ]
     },
     "execution_count": 14,
     "metadata": {},
     "output_type": "execute_result"
    }
   ],
   "source": [
    "tab3.head()"
   ]
  },
  {
   "cell_type": "code",
   "execution_count": 13,
   "metadata": {
    "ExecuteTime": {
     "end_time": "2023-11-28T13:26:52.167701700Z",
     "start_time": "2023-11-28T13:25:26.462743600Z"
    }
   },
   "outputs": [
    {
     "data": {
      "text/plain": "aisle    air fresheners candles  asian foods  baby accessories  \\\nuser_id                                                          \n1                             0            0                 0   \n2                             0            3                 0   \n3                             0            0                 0   \n4                             0            0                 0   \n5                             0            2                 0   \n...                         ...          ...               ...   \n206205                        0            0                 1   \n206206                        0            4                 0   \n206207                        0            0                 0   \n206208                        0            3                 0   \n206209                        0            1                 0   \n\naisle    baby bath body care  baby food formula  bakery desserts  \\\nuser_id                                                            \n1                          0                  0                0   \n2                          0                  0                0   \n3                          0                  0                0   \n4                          0                  0                0   \n5                          0                  0                0   \n...                      ...                ...              ...   \n206205                     0                  0                0   \n206206                     0                  0                0   \n206207                     0                  1                0   \n206208                     0                  3                0   \n206209                     0                  0                0   \n\naisle    baking ingredients  baking supplies decor  beauty  beers coolers  \\\nuser_id                                                                     \n1                         0                      0       0              0   \n2                         2                      0       0              0   \n3                         0                      0       0              0   \n4                         0                      0       0              0   \n5                         0                      0       0              0   \n...                     ...                    ...     ...            ...   \n206205                    0                      0       0              0   \n206206                    4                      1       0              0   \n206207                    0                      0       0              0   \n206208                    4                      0       0              0   \n206209                    0                      0       0              0   \n\naisle    ...  spreads  tea  tofu meat alternatives  tortillas flat bread  \\\nuser_id  ...                                                               \n1        ...        1    0                       0                     0   \n2        ...        3    1                       1                     0   \n3        ...        4    1                       0                     0   \n4        ...        0    0                       0                     1   \n5        ...        0    0                       0                     0   \n...      ...      ...  ...                     ...                   ...   \n206205   ...        0    0                       0                     0   \n206206   ...        1    0                       0                     0   \n206207   ...        3    4                       0                     2   \n206208   ...        5    0                       0                     7   \n206209   ...        0    0                       0                     0   \n\naisle    trail mix snack mix  trash bags liners  vitamins supplements  \\\nuser_id                                                                 \n1                          0                  0                     0   \n2                          0                  0                     0   \n3                          0                  0                     0   \n4                          0                  0                     0   \n5                          0                  0                     0   \n...                      ...                ...                   ...   \n206205                     0                  0                     0   \n206206                     0                  1                     0   \n206207                     1                  0                     0   \n206208                     0                  0                     0   \n206209                     0                  1                     0   \n\naisle    water seltzer sparkling water  white wines  yogurt  \nuser_id                                                      \n1                                    0            0       1  \n2                                    2            0      42  \n3                                    2            0       0  \n4                                    1            0       0  \n5                                    0            0       3  \n...                                ...          ...     ...  \n206205                               0            0       5  \n206206                               1            0       0  \n206207                              11            0      15  \n206208                               0            0      33  \n206209                               0            0       3  \n\n[206209 rows x 134 columns]",
      "text/html": "<div>\n<style scoped>\n    .dataframe tbody tr th:only-of-type {\n        vertical-align: middle;\n    }\n\n    .dataframe tbody tr th {\n        vertical-align: top;\n    }\n\n    .dataframe thead th {\n        text-align: right;\n    }\n</style>\n<table border=\"1\" class=\"dataframe\">\n  <thead>\n    <tr style=\"text-align: right;\">\n      <th>aisle</th>\n      <th>air fresheners candles</th>\n      <th>asian foods</th>\n      <th>baby accessories</th>\n      <th>baby bath body care</th>\n      <th>baby food formula</th>\n      <th>bakery desserts</th>\n      <th>baking ingredients</th>\n      <th>baking supplies decor</th>\n      <th>beauty</th>\n      <th>beers coolers</th>\n      <th>...</th>\n      <th>spreads</th>\n      <th>tea</th>\n      <th>tofu meat alternatives</th>\n      <th>tortillas flat bread</th>\n      <th>trail mix snack mix</th>\n      <th>trash bags liners</th>\n      <th>vitamins supplements</th>\n      <th>water seltzer sparkling water</th>\n      <th>white wines</th>\n      <th>yogurt</th>\n    </tr>\n    <tr>\n      <th>user_id</th>\n      <th></th>\n      <th></th>\n      <th></th>\n      <th></th>\n      <th></th>\n      <th></th>\n      <th></th>\n      <th></th>\n      <th></th>\n      <th></th>\n      <th></th>\n      <th></th>\n      <th></th>\n      <th></th>\n      <th></th>\n      <th></th>\n      <th></th>\n      <th></th>\n      <th></th>\n      <th></th>\n      <th></th>\n    </tr>\n  </thead>\n  <tbody>\n    <tr>\n      <th>1</th>\n      <td>0</td>\n      <td>0</td>\n      <td>0</td>\n      <td>0</td>\n      <td>0</td>\n      <td>0</td>\n      <td>0</td>\n      <td>0</td>\n      <td>0</td>\n      <td>0</td>\n      <td>...</td>\n      <td>1</td>\n      <td>0</td>\n      <td>0</td>\n      <td>0</td>\n      <td>0</td>\n      <td>0</td>\n      <td>0</td>\n      <td>0</td>\n      <td>0</td>\n      <td>1</td>\n    </tr>\n    <tr>\n      <th>2</th>\n      <td>0</td>\n      <td>3</td>\n      <td>0</td>\n      <td>0</td>\n      <td>0</td>\n      <td>0</td>\n      <td>2</td>\n      <td>0</td>\n      <td>0</td>\n      <td>0</td>\n      <td>...</td>\n      <td>3</td>\n      <td>1</td>\n      <td>1</td>\n      <td>0</td>\n      <td>0</td>\n      <td>0</td>\n      <td>0</td>\n      <td>2</td>\n      <td>0</td>\n      <td>42</td>\n    </tr>\n    <tr>\n      <th>3</th>\n      <td>0</td>\n      <td>0</td>\n      <td>0</td>\n      <td>0</td>\n      <td>0</td>\n      <td>0</td>\n      <td>0</td>\n      <td>0</td>\n      <td>0</td>\n      <td>0</td>\n      <td>...</td>\n      <td>4</td>\n      <td>1</td>\n      <td>0</td>\n      <td>0</td>\n      <td>0</td>\n      <td>0</td>\n      <td>0</td>\n      <td>2</td>\n      <td>0</td>\n      <td>0</td>\n    </tr>\n    <tr>\n      <th>4</th>\n      <td>0</td>\n      <td>0</td>\n      <td>0</td>\n      <td>0</td>\n      <td>0</td>\n      <td>0</td>\n      <td>0</td>\n      <td>0</td>\n      <td>0</td>\n      <td>0</td>\n      <td>...</td>\n      <td>0</td>\n      <td>0</td>\n      <td>0</td>\n      <td>1</td>\n      <td>0</td>\n      <td>0</td>\n      <td>0</td>\n      <td>1</td>\n      <td>0</td>\n      <td>0</td>\n    </tr>\n    <tr>\n      <th>5</th>\n      <td>0</td>\n      <td>2</td>\n      <td>0</td>\n      <td>0</td>\n      <td>0</td>\n      <td>0</td>\n      <td>0</td>\n      <td>0</td>\n      <td>0</td>\n      <td>0</td>\n      <td>...</td>\n      <td>0</td>\n      <td>0</td>\n      <td>0</td>\n      <td>0</td>\n      <td>0</td>\n      <td>0</td>\n      <td>0</td>\n      <td>0</td>\n      <td>0</td>\n      <td>3</td>\n    </tr>\n    <tr>\n      <th>...</th>\n      <td>...</td>\n      <td>...</td>\n      <td>...</td>\n      <td>...</td>\n      <td>...</td>\n      <td>...</td>\n      <td>...</td>\n      <td>...</td>\n      <td>...</td>\n      <td>...</td>\n      <td>...</td>\n      <td>...</td>\n      <td>...</td>\n      <td>...</td>\n      <td>...</td>\n      <td>...</td>\n      <td>...</td>\n      <td>...</td>\n      <td>...</td>\n      <td>...</td>\n      <td>...</td>\n    </tr>\n    <tr>\n      <th>206205</th>\n      <td>0</td>\n      <td>0</td>\n      <td>1</td>\n      <td>0</td>\n      <td>0</td>\n      <td>0</td>\n      <td>0</td>\n      <td>0</td>\n      <td>0</td>\n      <td>0</td>\n      <td>...</td>\n      <td>0</td>\n      <td>0</td>\n      <td>0</td>\n      <td>0</td>\n      <td>0</td>\n      <td>0</td>\n      <td>0</td>\n      <td>0</td>\n      <td>0</td>\n      <td>5</td>\n    </tr>\n    <tr>\n      <th>206206</th>\n      <td>0</td>\n      <td>4</td>\n      <td>0</td>\n      <td>0</td>\n      <td>0</td>\n      <td>0</td>\n      <td>4</td>\n      <td>1</td>\n      <td>0</td>\n      <td>0</td>\n      <td>...</td>\n      <td>1</td>\n      <td>0</td>\n      <td>0</td>\n      <td>0</td>\n      <td>0</td>\n      <td>1</td>\n      <td>0</td>\n      <td>1</td>\n      <td>0</td>\n      <td>0</td>\n    </tr>\n    <tr>\n      <th>206207</th>\n      <td>0</td>\n      <td>0</td>\n      <td>0</td>\n      <td>0</td>\n      <td>1</td>\n      <td>0</td>\n      <td>0</td>\n      <td>0</td>\n      <td>0</td>\n      <td>0</td>\n      <td>...</td>\n      <td>3</td>\n      <td>4</td>\n      <td>0</td>\n      <td>2</td>\n      <td>1</td>\n      <td>0</td>\n      <td>0</td>\n      <td>11</td>\n      <td>0</td>\n      <td>15</td>\n    </tr>\n    <tr>\n      <th>206208</th>\n      <td>0</td>\n      <td>3</td>\n      <td>0</td>\n      <td>0</td>\n      <td>3</td>\n      <td>0</td>\n      <td>4</td>\n      <td>0</td>\n      <td>0</td>\n      <td>0</td>\n      <td>...</td>\n      <td>5</td>\n      <td>0</td>\n      <td>0</td>\n      <td>7</td>\n      <td>0</td>\n      <td>0</td>\n      <td>0</td>\n      <td>0</td>\n      <td>0</td>\n      <td>33</td>\n    </tr>\n    <tr>\n      <th>206209</th>\n      <td>0</td>\n      <td>1</td>\n      <td>0</td>\n      <td>0</td>\n      <td>0</td>\n      <td>0</td>\n      <td>0</td>\n      <td>0</td>\n      <td>0</td>\n      <td>0</td>\n      <td>...</td>\n      <td>0</td>\n      <td>0</td>\n      <td>0</td>\n      <td>0</td>\n      <td>0</td>\n      <td>1</td>\n      <td>0</td>\n      <td>0</td>\n      <td>0</td>\n      <td>3</td>\n    </tr>\n  </tbody>\n</table>\n<p>206209 rows × 134 columns</p>\n</div>"
     },
     "execution_count": 13,
     "metadata": {},
     "output_type": "execute_result"
    }
   ],
   "source": [
    "# 3、找到user_id和aisle之间的关系\n",
    "table = pd.crosstab(tab3[\"user_id\"], tab3[\"aisle\"])\n",
    "table"
   ]
  },
  {
   "cell_type": "code",
   "execution_count": 11,
   "metadata": {
    "ExecuteTime": {
     "end_time": "2023-11-28T13:24:30.259395600Z",
     "start_time": "2023-11-28T13:24:30.226121100Z"
    }
   },
   "outputs": [],
   "source": [
    "data = table[:10000]"
   ]
  },
  {
   "cell_type": "code",
   "execution_count": 12,
   "metadata": {
    "ExecuteTime": {
     "end_time": "2023-11-28T13:24:41.391793200Z",
     "start_time": "2023-11-28T13:24:38.856412Z"
    }
   },
   "outputs": [],
   "source": [
    "# 4、PCA降维\n",
    "from sklearn.decomposition import PCA"
   ]
  },
  {
   "cell_type": "code",
   "execution_count": 21,
   "metadata": {},
   "outputs": [],
   "source": [
    "# 1）实例化一个转换器类\n",
    "transfer = PCA(n_components=0.95)\n",
    "\n",
    "# 2）调用fit_transform\n",
    "data_new = transfer.fit_transform(data)"
   ]
  },
  {
   "cell_type": "code",
   "execution_count": 23,
   "metadata": {},
   "outputs": [
    {
     "data": {
      "text/plain": [
       "(10000, 42)"
      ]
     },
     "execution_count": 23,
     "metadata": {},
     "output_type": "execute_result"
    }
   ],
   "source": [
    "data_new.shape"
   ]
  },
  {
   "cell_type": "code",
   "execution_count": null,
   "metadata": {},
   "outputs": [],
   "source": []
  }
 ],
 "metadata": {
  "kernelspec": {
   "display_name": "Python 3",
   "language": "python",
   "name": "python3"
  },
  "language_info": {
   "codemirror_mode": {
    "name": "ipython",
    "version": 3
   },
   "file_extension": ".py",
   "mimetype": "text/x-python",
   "name": "python",
   "nbconvert_exporter": "python",
   "pygments_lexer": "ipython3",
   "version": "3.6.3"
  }
 },
 "nbformat": 4,
 "nbformat_minor": 2
}
